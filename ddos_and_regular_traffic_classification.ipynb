{
  "nbformat": 4,
  "nbformat_minor": 0,
  "metadata": {
    "colab": {
      "provenance": []
    },
    "kernelspec": {
      "name": "python3",
      "display_name": "Python 3"
    },
    "language_info": {
      "name": "python"
    }
  },
  "cells": [
    {
      "cell_type": "code",
      "execution_count": null,
      "metadata": {
        "colab": {
          "base_uri": "https://localhost:8080/",
          "height": 955
        },
        "id": "0tzNhgDxnphs",
        "outputId": "881fb010-798e-4aac-e304-6ae853d7ec18"
      },
      "outputs": [
        {
          "output_type": "stream",
          "name": "stderr",
          "text": [
            "/usr/local/lib/python3.10/dist-packages/sklearn/preprocessing/_encoders.py:868: FutureWarning: `sparse` was renamed to `sparse_output` in version 1.2 and will be removed in 1.4. `sparse_output` is ignored unless you leave `sparse` to its default value.\n",
            "  warnings.warn(\n",
            "/usr/local/lib/python3.10/dist-packages/sklearn/preprocessing/_encoders.py:868: FutureWarning: `sparse` was renamed to `sparse_output` in version 1.2 and will be removed in 1.4. `sparse_output` is ignored unless you leave `sparse` to its default value.\n",
            "  warnings.warn(\n"
          ]
        },
        {
          "output_type": "stream",
          "name": "stdout",
          "text": [
            "Epoch 1/10\n",
            "2348/2348 [==============================] - 7s 2ms/step - loss: 0.1204 - accuracy: 0.9519 - val_loss: 0.0567 - val_accuracy: 0.9787\n",
            "Epoch 2/10\n",
            "2348/2348 [==============================] - 6s 2ms/step - loss: 0.0410 - accuracy: 0.9844 - val_loss: 0.0514 - val_accuracy: 0.9788\n",
            "Epoch 3/10\n",
            "2348/2348 [==============================] - 10s 4ms/step - loss: 0.0301 - accuracy: 0.9886 - val_loss: 0.0291 - val_accuracy: 0.9889\n",
            "Epoch 4/10\n",
            "2348/2348 [==============================] - 14s 6ms/step - loss: 0.0241 - accuracy: 0.9907 - val_loss: 0.0271 - val_accuracy: 0.9899\n",
            "Epoch 5/10\n",
            "2348/2348 [==============================] - 7s 3ms/step - loss: 0.0212 - accuracy: 0.9919 - val_loss: 0.0213 - val_accuracy: 0.9917\n",
            "Epoch 6/10\n",
            "2348/2348 [==============================] - 8s 3ms/step - loss: 0.0180 - accuracy: 0.9931 - val_loss: 0.0163 - val_accuracy: 0.9935\n",
            "Epoch 7/10\n",
            "2348/2348 [==============================] - 6s 3ms/step - loss: 0.0154 - accuracy: 0.9937 - val_loss: 0.0171 - val_accuracy: 0.9940\n",
            "Epoch 8/10\n",
            "2348/2348 [==============================] - 6s 3ms/step - loss: 0.0134 - accuracy: 0.9946 - val_loss: 0.0150 - val_accuracy: 0.9945\n",
            "Epoch 9/10\n",
            "2348/2348 [==============================] - 5s 2ms/step - loss: 0.0113 - accuracy: 0.9953 - val_loss: 0.0114 - val_accuracy: 0.9959\n",
            "Epoch 10/10\n",
            "2348/2348 [==============================] - 6s 3ms/step - loss: 0.0123 - accuracy: 0.9958 - val_loss: 0.0111 - val_accuracy: 0.9956\n",
            "653/653 [==============================] - 1s 1ms/step\n",
            "FNN Accuracy: 0.9951602855910681\n",
            "FNN F1 Score: 0.9938124119340807\n",
            "FNN Confusion Matrix:\n"
          ]
        },
        {
          "output_type": "display_data",
          "data": {
            "text/plain": [
              "<Figure size 640x480 with 2 Axes>"
            ],
            "image/png": "[encoded data removed]"
          },
          "metadata": {}
        }
      ],
      "source": [
        "import pandas as pd\n",
        "import numpy as np\n",
        "from sklearn.model_selection import train_test_split\n",
        "from sklearn.preprocessing import StandardScaler, OneHotEncoder\n",
        "from sklearn.compose import ColumnTransformer\n",
        "from sklearn.ensemble import RandomForestClassifier\n",
        "from sklearn.impute import SimpleImputer\n",
        "from sklearn.metrics import accuracy_score, f1_score, confusion_matrix\n",
        "from keras.models import Sequential\n",
        "from keras.layers import Dense\n",
        "from sklearn.utils import shuffle\n",
        "from sklearn.metrics import ConfusionMatrixDisplay\n",
        "\n",
        "df_sample = pd.read_csv('/content/dataset_sdn.csv')\n",
        "\n",
        "X = df_sample.drop('label', axis=1)\n",
        "y = df_sample['label']\n",
        "\n",
        "numeric_cols = [col for col in X.columns if col not in ['src', 'dst', 'Protocol']]\n",
        "numeric_imputer = SimpleImputer(strategy='mean')\n",
        "X[numeric_cols] = numeric_imputer.fit_transform(X[numeric_cols])\n",
        "\n",
        "categorical_cols = ['src', 'dst', 'Protocol']\n",
        "\n",
        "numeric_transformer = StandardScaler()\n",
        "\n",
        "categorical_transformer = OneHotEncoder(drop='first', sparse=False)\n",
        "X_categorical = categorical_transformer.fit_transform(X[categorical_cols])\n",
        "\n",
        "preprocessor = ColumnTransformer(\n",
        "    transformers=[\n",
        "        ('num', numeric_transformer, numeric_cols),\n",
        "        ('cat', categorical_transformer, categorical_cols)\n",
        "    ])\n",
        "\n",
        "X_transformed = preprocessor.fit_transform(X)\n",
        "\n",
        "fnn_model = Sequential([\n",
        "    Dense(units=64, activation='relu', input_dim=X_transformed.shape[1]),\n",
        "    Dense(units=32, activation='relu'),\n",
        "    Dense(units=1, activation='sigmoid')\n",
        "])\n",
        "\n",
        "fnn_model.compile(optimizer='adam', loss='binary_crossentropy', metrics=['accuracy'])\n",
        "\n",
        "X_train_fnn, X_test_fnn, y_train_fnn, y_test_fnn = train_test_split(X_transformed, y, test_size=0.2, random_state=42)\n",
        "\n",
        "fnn_model.fit(X_train_fnn, y_train_fnn, epochs=10, batch_size=32, validation_split=0.1, verbose=1)\n",
        "\n",
        "if y_test_fnn.isnull().any():\n",
        "    print(\"NaN values found in y_test_fnn. Handle missing labels before evaluating the model.\")\n",
        "else:\n",
        "    y_pred_fnn = fnn_model.predict(X_test_fnn)\n",
        "    y_pred_fnn_binary = (y_pred_fnn > 0.5).astype(int)\n",
        "\n",
        "    accuracy_fnn = accuracy_score(y_test_fnn, y_pred_fnn_binary)\n",
        "    f1_fnn = f1_score(y_test_fnn, y_pred_fnn_binary)\n",
        "    conf_matrix_fnn = confusion_matrix(y_test_fnn, y_pred_fnn_binary)\n",
        "\n",
        "    print(f'FNN Accuracy: {accuracy_fnn}')\n",
        "    print(f'FNN F1 Score: {f1_fnn}')\n",
        "    print('FNN Confusion Matrix:')\n",
        "    ConfusionMatrixDisplay(conf_matrix_fnn).plot(cmap='viridis', values_format='d')\n"
      ]
    }
  ]
}